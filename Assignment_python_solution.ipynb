{
  "nbformat": 4,
  "nbformat_minor": 0,
  "metadata": {
    "colab": {
      "provenance": []
    },
    "kernelspec": {
      "name": "python3",
      "display_name": "Python 3"
    },
    "language_info": {
      "name": "python"
    }
  },
  "cells": [
    {
      "cell_type": "markdown",
      "source": [
        "1. Write a Python function to find the maximum of three numbers.\n"
      ],
      "metadata": {
        "id": "wdeNSJbtpWj0"
      }
    },
    {
      "cell_type": "code",
      "source": [
        "def find_maximum(a, b, c):\n",
        "    return max(a, b, c)\n",
        "num1 = 5\n",
        "num2 = 12\n",
        "num3 = 8\n",
        "\n",
        "maximum = find_maximum(num1, num2, num3)\n",
        "print(f\"The maximum of {num1}, {num2}, and {num3} is {maximum}\")\n"
      ],
      "metadata": {
        "id": "imQjlQbZpaA-"
      },
      "execution_count": null,
      "outputs": []
    },
    {
      "cell_type": "markdown",
      "source": [
        "2. Write a Python function to sum all the numbers in a list.\n",
        "Sample List : (8, 2, 3, 0, 7)\n",
        "\n",
        "      Expected Output : 20"
      ],
      "metadata": {
        "id": "hFOGVXHZrLly"
      }
    },
    {
      "cell_type": "code",
      "source": [
        "def sum_list_numbers(numbers):\n",
        "    return sum(numbers)\n",
        "\n",
        "sample_list = [8, 2, 3, 0, 7]\n",
        "result = sum_list_numbers(sample_list)\n",
        "print(f\"The sum of numbers in the list is: {result}\")\n"
      ],
      "metadata": {
        "colab": {
          "base_uri": "https://localhost:8080/"
        },
        "id": "idiqXsfSp4Qv",
        "outputId": "acc0f835-5bee-4afd-b7cd-47fab42f910a"
      },
      "execution_count": null,
      "outputs": [
        {
          "output_type": "stream",
          "name": "stdout",
          "text": [
            "The sum of numbers in the list is: 20\n"
          ]
        }
      ]
    },
    {
      "cell_type": "markdown",
      "source": [
        "3. Write a Python function to multiply all the numbers in a list.\n",
        "Sample List : (8, 2, 3, -1, 7)\n",
        "\n",
        "        Expected Output : -336"
      ],
      "metadata": {
        "id": "r1sNEH14sGtA"
      }
    },
    {
      "cell_type": "code",
      "source": [
        "\n",
        "#Solution -2\n",
        "def multiply(numbers):\n",
        "    sample_list = 1\n",
        "    for x in numbers:\n",
        "        sample_list *= x\n",
        "    return sample_list\n",
        "print(multiply((8, 2, 3, -1, 7)))\n"
      ],
      "metadata": {
        "colab": {
          "base_uri": "https://localhost:8080/"
        },
        "id": "UrcejSiYscFE",
        "outputId": "7fd11751-9b5b-492c-e8c8-c380c1c87a0d"
      },
      "execution_count": null,
      "outputs": [
        {
          "output_type": "stream",
          "name": "stdout",
          "text": [
            "-336\n"
          ]
        }
      ]
    },
    {
      "cell_type": "markdown",
      "source": [
        "4. Write a Python program to reverse a string.\n",
        "\n",
        "      Sample String : \"1234abcd\"\n",
        "\n",
        "      Expected Output : \"dcba4321\"\n",
        "\n",
        "\n",
        "\n"
      ],
      "metadata": {
        "id": "flNDrBNru2aV"
      }
    },
    {
      "cell_type": "code",
      "source": [
        "def reverse_string(input_string):\n",
        "    return input_string[::-1]\n",
        "\n",
        "sample_string = \"1234abcd\"\n",
        "reversed_string = reverse_string(sample_string)\n",
        "print(f\"The reversed string is: {reversed_string}\")\n",
        "\n"
      ],
      "metadata": {
        "colab": {
          "base_uri": "https://localhost:8080/"
        },
        "id": "Z-WEi9GwtldS",
        "outputId": "12f5154e-4e0f-4469-c5f1-ecf8acb0893f"
      },
      "execution_count": null,
      "outputs": [
        {
          "output_type": "stream",
          "name": "stdout",
          "text": [
            "The reversed string is: dcba4321\n"
          ]
        }
      ]
    },
    {
      "cell_type": "markdown",
      "source": [
        "5. Write a Python function to calculate the factorial of a number (a non-negative integer). The function accepts the number as an argument."
      ],
      "metadata": {
        "id": "rFGeVQAptZFF"
      }
    },
    {
      "cell_type": "code",
      "source": [
        "def factorial(n):\n",
        "    if n == 0:\n",
        "        return 1\n",
        "    else:\n",
        "        return n * factorial(n - 1)\n",
        "\n",
        "number = int(input(\"factorial\"))\n",
        "result = factorial(number)\n",
        "print(f\"The factorial of {number} is: {result}\")\n"
      ],
      "metadata": {
        "id": "hCzORbKmvGII"
      },
      "execution_count": null,
      "outputs": []
    },
    {
      "cell_type": "markdown",
      "source": [
        "6. Write a Python function to check whether a number falls within a given range.\n"
      ],
      "metadata": {
        "id": "K0E_9OBevUxO"
      }
    },
    {
      "cell_type": "code",
      "source": [
        "def test_range(n):\n",
        "    if n in range(5,9):\n",
        "        print( \" %s is in the range\"%str(n))\n",
        "    else :\n",
        "        print(\"The number is outside the given range.\")\n",
        "test_range(4)"
      ],
      "metadata": {
        "id": "QHGvQo_Ztsv1"
      },
      "execution_count": null,
      "outputs": []
    },
    {
      "cell_type": "markdown",
      "source": [
        "7. Write a Python function that accepts a string and counts the number of upper and lower case letters.\n",
        "Sample String : 'The quick Brow Fox'\n",
        "Expected Output :\n",
        "No. of Upper case characters : 3\n",
        "No. of Lower case Characters : 12"
      ],
      "metadata": {
        "id": "odybxP5ryc67"
      }
    },
    {
      "cell_type": "code",
      "source": [
        "def count_upper_lower(string):\n",
        "    upper_count = 0\n",
        "    lower_count = 0\n",
        "\n",
        "    for char in string:\n",
        "        if char.isupper():\n",
        "            upper_count += 1\n",
        "        elif char.islower():\n",
        "            lower_count += 1\n",
        "\n",
        "    return upper_count, lower_count\n",
        "\n",
        "sample_string = 'The quick Brow Fox'\n",
        "upper, lower = count_upper_lower(sample_string)\n",
        "print( 'The quick Brow Fox')\n",
        "print(f\"No. of Upper case characters : {upper}\")\n",
        "print(f\"No. of Lower case characters : {lower}\")\n"
      ],
      "metadata": {
        "id": "cAGc7NUQvsig"
      },
      "execution_count": null,
      "outputs": []
    },
    {
      "cell_type": "markdown",
      "source": [
        "8. Write a Python function that takes a list and returns a new list with distinct elements from the first list.\n",
        "Sample List : [1,2,3,3,3,3,4,5]\n",
        "Unique List : [1, 2, 3, 4, 5]"
      ],
      "metadata": {
        "id": "wqOxukLbz5XO"
      }
    },
    {
      "cell_type": "code",
      "source": [
        "def unique_list(list):\n",
        "  x = []\n",
        "  for a in list:\n",
        "    if a not in x:\n",
        "      x.append(a)\n",
        "  return x\n",
        "\n",
        "print( unique_list([1,2,3,3,3,3,4,5]))\n"
      ],
      "metadata": {
        "id": "Lz2RoIpo0GK7"
      },
      "execution_count": null,
      "outputs": []
    },
    {
      "cell_type": "markdown",
      "source": [
        "9. Write a Python function that takes a number as a parameter and checks whether the number is prime or not.\n",
        "Note : A prime number (or a prime) is a natural number greater than 1 and that has no positive divisors other than 1 and itself."
      ],
      "metadata": {
        "id": "X3PVBCBM6tMt"
      }
    },
    {
      "cell_type": "code",
      "source": [
        "def test_prime(n):\n",
        "    if n == 1:\n",
        "        return False\n",
        "    elif n == 2:\n",
        "        return True\n",
        "    else:\n",
        "        for x in range(2, n):\n",
        "            if n % x == 0:\n",
        "                return False\n",
        "        return True\n",
        "\n",
        "number_check = int(input('Enter a number: '))\n",
        "result = \"a prime\" if test_prime(number_check) else \"not a prime\"\n",
        "print(f\"{number_check} is {result} number.\")\n"
      ],
      "metadata": {
        "id": "9nlPzo1g7Hda"
      },
      "execution_count": null,
      "outputs": []
    },
    {
      "cell_type": "markdown",
      "source": [
        "10. Write a Python program to print the even numbers from a given list.\n",
        "Sample List : [1, 2, 3, 4, 5, 6, 7, 8, 9]\n",
        "\n",
        "         Expected Result : [2, 4, 6, 8]"
      ],
      "metadata": {
        "id": "iofa-LnB-KZi"
      }
    },
    {
      "cell_type": "code",
      "source": [
        "def print_even_numbers(input_list):\n",
        "    even_numbers = []\n",
        "    for n in input_list:\n",
        "        if n % 2 ==0:\n",
        "            even_numbers.append(n)\n",
        "    print(even_numbers)\n",
        "\n",
        "sample_list = [1, 2, 3, 4, 5, 6, 7, 8, 9]\n",
        "print_even_numbers(sample_list)\n"
      ],
      "metadata": {
        "id": "Nlcnk6sE7Ioh"
      },
      "execution_count": null,
      "outputs": []
    },
    {
      "cell_type": "markdown",
      "source": [
        "11. Write a Python function to check whether a number is \"Perfect\" or not.\n",
        "According to Wikipedia : In number theory, a perfect number is a positive integer that is equal to the sum of its proper positive divisors, that is, the sum of its positive divisors excluding the number itself (also known as its aliquot sum). Equivalently, a perfect number is a number that is half the sum of all of its positive divisors (including itself).\n",
        "Example : The first perfect number is 6, because 1, 2, and 3 are its proper positive divisors, and 1 + 2 + 3 = 6. Equivalently, the number 6 is equal to half the sum of all its positive divisors: ( 1 + 2 + 3 + 6 ) / 2 = 6. The next perfect number is 28 = 1 + 2 + 4 + 7 + 14. This is followed by the perfect numbers 496 and 8128."
      ],
      "metadata": {
        "id": "xFrRMEQMAYsn"
      }
    },
    {
      "cell_type": "code",
      "source": [
        "def perfect_number(num):\n",
        "    return num == sum(i for i in range(1, num) if num % i == 0)\n",
        "\n",
        "test_numbers = [6, 28, 496, 8128, 15, 30]\n",
        "for num in test_numbers:\n",
        "    if perfect_number(num):\n",
        "        print(f\"{num} is a perfect number.\")\n",
        "    else:\n",
        "        print(f\"{num} is not a perfect number.\")\n"
      ],
      "metadata": {
        "id": "EQ9rJhEA_om4"
      },
      "execution_count": null,
      "outputs": []
    },
    {
      "cell_type": "markdown",
      "source": [
        "12. Write a Python function that checks whether a passed string is a palindrome or not.\n",
        "Note: A palindrome is a word, phrase, or sequence that reads the same backward as forward, e.g., madam or nurses run."
      ],
      "metadata": {
        "id": "4y9FEcrqo-Vn"
      }
    },
    {
      "cell_type": "markdown",
      "source": [
        "\n",
        "13. Write a Python function that prints out the first n rows of Pascal's triangle.\n",
        "Note : Pascal's triangle is an arithmetic and geometric figure first imagined by Blaise Pascal.\n",
        "\n",
        "Sample Pascal's triangle :\n",
        "\n",
        "Pascal's triangle\n",
        "Each number is the two numbers above it added together"
      ],
      "metadata": {
        "id": "DS00Mdqeq_12"
      }
    },
    {
      "cell_type": "code",
      "source": [
        "def pascal_triangle(n):\n",
        "   next_row = [1]\n",
        "   y = [0]\n",
        "   for x in range(max(n,0)):\n",
        "      print(next_row)\n",
        "      next_row=[l+r for l,r in zip(next_row+y, y+next_row)]\n",
        "   return n>=1\n",
        "pascal_triangle(5)\n"
      ],
      "metadata": {
        "id": "rITozTNYrZ0w"
      },
      "execution_count": null,
      "outputs": []
    },
    {
      "cell_type": "markdown",
      "source": [
        "14. Write a Python function to check whether a string is a pangram or not.\n",
        "Note : Pangrams are words or sentences containing every letter of the alphabet at least once.\n",
        "For example : \"The quick brown fox jumps over the lazy dog\""
      ],
      "metadata": {
        "id": "Sj15Vmd0tAjT"
      }
    },
    {
      "cell_type": "code",
      "source": [
        "def is_pangram(s):\n",
        "    alphabet = set(\"abcdefghijklmnopqrstuvwxyz\")\n",
        "    s = s.lower()\n",
        "    return set(s).issuperset(alphabet)\n",
        "\n",
        "print(is_pangram('The quick brown fox jumps over the lazy dog'))\n"
      ],
      "metadata": {
        "id": "50iMS5vhr6Ps"
      },
      "execution_count": null,
      "outputs": []
    },
    {
      "cell_type": "markdown",
      "source": [
        "15. Write a Python program that accepts a hyphen-separated sequence of words as input and prints the words in a hyphen-separated sequence after sorting them alphabetically.\n",
        "Sample Items : green-red-yellow-black-white\n",
        "Expected Result : black-green-red-white-yellow"
      ],
      "metadata": {
        "id": "lSfPHswquQBa"
      }
    },
    {
      "cell_type": "code",
      "source": [
        "def main():\n",
        "    # Accept input from the user\n",
        "    input_sequence = input(\"Enter a hyphen-separated sequence of words: \")\n",
        "\n",
        "    # Split the input sequence into a list of words\n",
        "    words = input_sequence.split('-')\n",
        "\n",
        "    # Sort the list of words alphabetically\n",
        "    words.sort()\n",
        "\n",
        "    # Join the sorted words back into a hyphen-separated sequence\n",
        "    sorted_sequence = '-'.join(words)\n",
        "\n",
        "    # Print the sorted sequence\n",
        "    print(\"Sorted sequence:\", sorted_sequence)\n",
        "\n",
        "if __name__ == \"__main__\":\n",
        "    main()\n"
      ],
      "metadata": {
        "id": "ne-1GaPjtrCQ"
      },
      "execution_count": null,
      "outputs": []
    },
    {
      "cell_type": "markdown",
      "source": [
        "16. Write a Python function to create and print a list where the values are the squares of numbers between 1 and 30 (both included)."
      ],
      "metadata": {
        "id": "xPNM22fOvmFt"
      }
    },
    {
      "cell_type": "code",
      "source": [
        "def generate_square_list():\n",
        "\tsquare_list  = list()\n",
        "\tfor i in range(1,31):\n",
        "\t\tsquare_list.append(i**2)\n",
        "\tprint(square_list)\n",
        "\n",
        "generate_square_list()\n"
      ],
      "metadata": {
        "id": "bJJTWarUubMG"
      },
      "execution_count": null,
      "outputs": []
    },
    {
      "cell_type": "markdown",
      "source": [
        "17. Write a Python program to create a chain of function decorators (bold, italic, underline etc.).\n"
      ],
      "metadata": {
        "id": "y9S6K0ygwwZx"
      }
    },
    {
      "cell_type": "code",
      "source": [
        "def format_decorator(tag):\n",
        "    def decorator(func):\n",
        "        return lambda *args, **kwargs: f\"<{tag}>{func(*args, **kwargs)}</{tag}>\"\n",
        "    return decorator\n",
        "\n",
        "bold = format_decorator(\"b\")\n",
        "italic = format_decorator(\"i\")\n",
        "underline = format_decorator(\"u\")\n",
        "\n",
        "@underline\n",
        "@italic\n",
        "@bold\n",
        "def greet(name):\n",
        "    return f\"Hello, {name}!\"\n",
        "\n",
        "def main():\n",
        "    name = input(\"Enter your name: \")\n",
        "    formatted_greeting = greet(name)\n",
        "    print(\"Formatted greeting:\", formatted_greeting)\n",
        "\n",
        "if __name__ == \"__main__\":\n",
        "    main()\n"
      ],
      "metadata": {
        "id": "lGE4Jicgv8Yl"
      },
      "execution_count": null,
      "outputs": []
    },
    {
      "cell_type": "markdown",
      "source": [
        "18. Write a Python program to execute a string containing Python code."
      ],
      "metadata": {
        "id": "MNPYuWXlx99G"
      }
    },
    {
      "cell_type": "code",
      "source": [
        "python_code = 'print(\"hello world\")'\n",
        "code = \"\"\"\n",
        "def mutiply(x,y):\n",
        "    return x*y\n",
        "\n",
        "print('Multiply of 5 and 3 is: ',mutiply(5,3))\n",
        "\"\"\"\n",
        "exec(python_code)\n",
        "exec(code)\n"
      ],
      "metadata": {
        "id": "4L38D0zExNF4"
      },
      "execution_count": null,
      "outputs": []
    },
    {
      "cell_type": "markdown",
      "source": [
        "19. Write a Python program to access a function inside a function.\n"
      ],
      "metadata": {
        "id": "jJnxlNxyyxmP"
      }
    },
    {
      "cell_type": "code",
      "source": [
        "def outer_function():\n",
        "    print(\"This is the outer function\")\n",
        "\n",
        "    def inner_function():\n",
        "        print(\"This is the inner function\")\n",
        "\n",
        "    # Call the inner function\n",
        "    inner_function()\n",
        "\n",
        "# Call the outer function\n",
        "outer_function()\n"
      ],
      "metadata": {
        "id": "Y-BcmGl4yF6p"
      },
      "execution_count": null,
      "outputs": []
    },
    {
      "cell_type": "markdown",
      "source": [
        "20. Write a Python program to detect the number of local variables declared in a function.\n",
        "Sample Output:\n",
        "3"
      ],
      "metadata": {
        "id": "efOXKAoAzuJK"
      }
    },
    {
      "cell_type": "code",
      "source": [
        "def my_function():\n",
        "    a = 10\n",
        "    b = \"Hello\"\n",
        "    c = [1, 2, 3]\n",
        "    count = len(locals())\n",
        "    return count\n",
        "\n",
        "result = my_function()\n",
        "print(result)\n"
      ],
      "metadata": {
        "id": "zBbaigbZzAmL"
      },
      "execution_count": null,
      "outputs": []
    },
    {
      "cell_type": "code",
      "source": [],
      "metadata": {
        "id": "AmNPCvg9iY_x"
      },
      "execution_count": null,
      "outputs": []
    },
    {
      "cell_type": "markdown",
      "source": [
        "#Opps assignment solution"
      ],
      "metadata": {
        "id": "RIRCBzAYibgh"
      }
    },
    {
      "cell_type": "code",
      "source": [
        "# Question-1\n",
        "\n",
        "# Problem 1\n",
        "# Product\n",
        "  # attr - name, price\n",
        "# Shopping_cart\n",
        "  # attr - products = []\n",
        "  # methods - add_product, calc_bill"
      ],
      "metadata": {
        "id": "FCI45A2biZCz"
      },
      "execution_count": null,
      "outputs": []
    },
    {
      "cell_type": "code",
      "source": [
        "class Product:\n",
        "    def __init__(self, name, price):\n",
        "        self.name = name\n",
        "        self.price = price\n",
        "\n",
        "class ShoppingCart:\n",
        "    def __init__(self):\n",
        "        self.products = []\n",
        "\n",
        "    def add_product(self, product):\n",
        "        self.products.append(product)\n",
        "\n",
        "    def calc_bill(self):\n",
        "        total_price = sum(product.price for product in self.products)\n",
        "        return total_price\n",
        "\n",
        "product1 = Product(\"Item 1\", 100)\n",
        "product2 = Product(\"Item 2\", 250)\n",
        "\n",
        "cart = ShoppingCart()\n",
        "cart.add_product(product1)\n",
        "cart.add_product(product2)\n",
        "\n",
        "total_bill = cart.calc_bill()\n",
        "print(f\"Total bill: Rs.{total_bill}\")\n"
      ],
      "metadata": {
        "id": "PHxwlzbmi_af"
      },
      "execution_count": null,
      "outputs": []
    },
    {
      "cell_type": "code",
      "source": [
        "#question-2\n",
        "\n",
        "# Problem 2\n",
        "# Imaginary (x+iy)\n",
        "  # attr - x, y\n",
        "  # methods -"
      ],
      "metadata": {
        "id": "dco7ZS5ljEWy"
      },
      "execution_count": null,
      "outputs": []
    },
    {
      "cell_type": "code",
      "source": [
        "class Imaginary:\n",
        "    def __init__(self, x, y):\n",
        "        self.x, self.y = x, y\n",
        "\n",
        "    def __str__(self):\n",
        "        return f\"{self.x} + {self.y}i\" if self.y >= 0 else f\"{self.x} - {-self.y}i\"\n",
        "\n",
        "    def add(self, other):\n",
        "        return Imaginary(self.x + other.x, self.y + other.y)\n",
        "\n",
        "    def subtract(self, other):\n",
        "        return Imaginary(self.x - other.x, self.y - other.y)\n",
        "\n",
        "num1 = Imaginary(3, 2)\n",
        "num2 = Imaginary(1, -4)\n",
        "\n",
        "sum_result = num1.add(num2)\n",
        "difference_result = num1.subtract(num2)\n",
        "\n",
        "print(f\"Num1: {num1}\")\n",
        "print(f\"Num2: {num2}\")\n",
        "print(f\"Sum: {sum_result}\")\n",
        "print(f\"Difference: {difference_result}\")\n"
      ],
      "metadata": {
        "id": "J0mgcxGtjI7x"
      },
      "execution_count": null,
      "outputs": []
    },
    {
      "cell_type": "code",
      "source": [
        "#Question -3\n",
        "\n",
        "# Problem 3\n",
        "# library\n",
        "  # attr - books\n",
        "  # method - available, add_book, remove_book\n",
        "# student\n",
        "  # attr - name, class, books_issued\n",
        "  # method - issue_book, return_book"
      ],
      "metadata": {
        "id": "VrIRb5iFjMdy"
      },
      "execution_count": null,
      "outputs": []
    },
    {
      "cell_type": "code",
      "source": [
        "class Library:\n",
        "    def __init__(self):\n",
        "        self.books = []\n",
        "\n",
        "    def available(self):\n",
        "        return self.books\n",
        "\n",
        "    def add_book(self, book):\n",
        "        self.books.append(book)\n",
        "\n",
        "    def remove_book(self, book):\n",
        "        self.books.remove(book) if book in self.books else print(f\"{book} is not in the library.\")\n",
        "\n",
        "class Student:\n",
        "    def __init__(self, name, student_class):\n",
        "        self.name, self.student_class, self.books_issued = name, student_class, []\n",
        "\n",
        "    def issue_book(self, library, book):\n",
        "        self.books_issued.append(book)\n",
        "        print(\"Book issued\")\n",
        "\n",
        "    def return_book(self, library, book):\n",
        "        self.books_issued.remove(book)\n",
        "        print(\"Book returned\")\n",
        "library = Library()\n",
        "library.add_book(\"Book 1\")\n",
        "library.add_book(\"Book 2\")\n",
        "library.add_book(\"Book 3\")\n",
        "\n",
        "student1 = Student(\"Alice\", \"Class A\")\n",
        "student2 = Student(\"Bob\", \"Class B\")\n",
        "\n",
        "student1.issue_book(library, \"Book 1\")\n",
        "student2.issue_book(library, \"Book 2\")\n",
        "\n",
        "student1.return_book(library, \"Book 1\")\n"
      ],
      "metadata": {
        "id": "A1RQZCVLjTAM"
      },
      "execution_count": null,
      "outputs": []
    },
    {
      "cell_type": "markdown",
      "source": [
        "#Practice"
      ],
      "metadata": {
        "id": "IjA8tqbDjX4o"
      }
    },
    {
      "cell_type": "code",
      "source": [
        "from time import sleep\n",
        "import math\n",
        "def delayed_function_call(function, args, delay_ms):\n",
        "  sleep(delay_ms / 1000)\n",
        "  return function(*args)\n",
        "print(\"Square root after specific miliseconds:\")\n",
        "print(delay(lambda x: math.sqrt(x), 100, 16))\n",
        "print(delay(lambda x: math.sqrt(x), 1000, 100))\n",
        "print(delay(lambda x: math.sqrt(x), 2000, 25100))\n"
      ],
      "metadata": {
        "id": "fEmbRbUO0vUc"
      },
      "execution_count": null,
      "outputs": []
    },
    {
      "cell_type": "markdown",
      "source": [
        "Here's an example of how to define a simple class in Python:\n",
        "\n"
      ],
      "metadata": {
        "id": "kuso7guuyjlu"
      }
    },
    {
      "cell_type": "code",
      "source": [
        "class cat:\n",
        "   def __init__(self,name,age):\n",
        "         self.name = name\n",
        "         self.age = age\n",
        "   def bark(self):\n",
        "       return \"Miu! Miu!\"\n",
        "\n",
        "   def get_age(self):\n",
        "       return self.age\n",
        "\n",
        "   def set_age(age, new_age):\n",
        "       self.age = new_age\n",
        "\n",
        "cat1=cat(\"coco\", 4)\n",
        "print(cat1.name)\n",
        "print(cat1.bark())\n",
        "cat2 = cat(\"kiki\",2)\n",
        "print(cat2.get_age())\n",
        "cat2.set_age(6)\n",
        "print(cat2.get_age())\n"
      ],
      "metadata": {
        "id": "oT1BcWtI1BTl"
      },
      "execution_count": null,
      "outputs": []
    },
    {
      "cell_type": "code",
      "source": [
        "cat1=cat(\"coco\", 4)\n",
        "print(cat1.name)\n",
        "print(cat1.bark())\n",
        "cat2 = cat(\"kiki\",2)\n",
        "print(cat2.get_age())\n",
        "cat2.set_age(6)\n",
        "print(cat2.get_age())\n"
      ],
      "metadata": {
        "id": "tBYdrX9hzA5J"
      },
      "execution_count": null,
      "outputs": []
    },
    {
      "cell_type": "markdown",
      "source": [
        "practice\n",
        "\n",
        "Write a program to create a function that takes two arguments, name and age, and print their value.\n",
        "\n"
      ],
      "metadata": {
        "id": "OZ_LQd5aNstm"
      }
    },
    {
      "cell_type": "code",
      "source": [
        "def dashrath(name,age):\n",
        "    print(name,age)\n",
        "\n",
        "\n"
      ],
      "metadata": {
        "id": "m8ASqjsizmdV"
      },
      "execution_count": null,
      "outputs": []
    },
    {
      "cell_type": "code",
      "source": [
        "dashrath('dk',19)\n",
        "\n"
      ],
      "metadata": {
        "id": "JsOlWbZeNg0c"
      },
      "execution_count": null,
      "outputs": []
    },
    {
      "cell_type": "code",
      "source": [
        "def fruits( self,name,color):\n",
        "    self.name=[ 'mango']\n",
        "    self.color=['yellow']\n",
        "    print(self.name + self.color)\n",
        "\n"
      ],
      "metadata": {
        "id": "2PjdlEjNOMwX"
      },
      "execution_count": null,
      "outputs": []
    },
    {
      "cell_type": "code",
      "source": [
        "print('fruits')"
      ],
      "metadata": {
        "id": "Af-t_qpzO5__"
      },
      "execution_count": null,
      "outputs": []
    },
    {
      "cell_type": "markdown",
      "source": [
        "Write a program to create function func1() to accept a variable length of arguments and print their value.\n",
        "\n"
      ],
      "metadata": {
        "id": "l8aQQYYSUGK7"
      }
    },
    {
      "cell_type": "code",
      "source": [
        "def func(*lenght):\n",
        "    for i in lenght:\n",
        "      print(i)\n"
      ],
      "metadata": {
        "id": "0TYC5BA9PDd_"
      },
      "execution_count": null,
      "outputs": []
    },
    {
      "cell_type": "code",
      "source": [
        "func(20,30)\n",
        "func(10,20,30,30,40)"
      ],
      "metadata": {
        "id": "b8NYFE6lTvHo"
      },
      "execution_count": null,
      "outputs": []
    },
    {
      "cell_type": "markdown",
      "source": [
        "Write a program to create function calculation() such that it can accept two variables and calculate addition and subtraction. Also, it must return both addition and subtraction in a single return call."
      ],
      "metadata": {
        "id": "wvEPFVDAUqXG"
      }
    },
    {
      "cell_type": "code",
      "source": [
        "def calculation(a,b):\n",
        "    addition=a + b\n",
        "    subtraction = a - b\n",
        "    multiplay = a * b\n",
        "    div = a/b\n",
        "    return addition , subtraction,multiplay,div\n",
        "\n",
        "res = calculation(20,40)\n",
        "print(res)"
      ],
      "metadata": {
        "id": "YwlR4B5ZTyCb"
      },
      "execution_count": null,
      "outputs": []
    },
    {
      "cell_type": "markdown",
      "source": [
        "Write a program to create a function show_employee() using the following conditions.\n",
        "\n",
        "It should accept the employee’s name and salary and display both.\n",
        "\n",
        "If the salary is missing in the function call then assign default value 9000 to salary\n",
        "\n"
      ],
      "metadata": {
        "id": "BIgeXFoQc1t-"
      }
    },
    {
      "cell_type": "code",
      "source": [
        "def show_employee(name,salary=9000):\n",
        "    print(\"Name:\",name,\"salary:\",salary)\n",
        "\n",
        "show_employee(\"jammy\",12000)\n",
        "show_employee(\"jessa\")\n"
      ],
      "metadata": {
        "id": "YwdB8jeIVZlV"
      },
      "execution_count": null,
      "outputs": []
    },
    {
      "cell_type": "markdown",
      "source": [
        "Exercise 5: Create an inner function to calculate the addition in the following way\n",
        "\n",
        "Create an outer function that will accept two parameters, a and b\n",
        "Create an inner function inside an outer function that will calculate the addition of a and b\n",
        "At last, an outer function will add 5 into addition and return it"
      ],
      "metadata": {
        "id": "mxjp6O65gjVJ"
      }
    },
    {
      "cell_type": "code",
      "source": [
        "def outer_fun(a, b):\n",
        "    square = a ** 2\n",
        "\n",
        "    def addition(a, b):\n",
        "         return a + b\n",
        "\n",
        "    add = addition(a, b)\n",
        "    return add + 5\n",
        "\n",
        "result = outer_fun(5, 10)\n",
        "print(result)\n",
        "\n"
      ],
      "metadata": {
        "id": "9EOG6D99eM8r"
      },
      "execution_count": null,
      "outputs": []
    },
    {
      "cell_type": "markdown",
      "source": [
        "Write a program to create a recursive function to calculate the sum of numbers from 0 to 10."
      ],
      "metadata": {
        "id": "vlQfosfLqPKa"
      }
    },
    {
      "cell_type": "code",
      "source": [
        "def sum_of_number(num):\n",
        "    if num:\n",
        "      return num + sum_of_number(num - 1)\n",
        "    else:\n",
        "        return 0\n",
        "\n",
        "res = sum_of_number(10)\n",
        "print(res)\n",
        "\n",
        "\n"
      ],
      "metadata": {
        "id": "1ubdVvq5l3xS"
      },
      "execution_count": null,
      "outputs": []
    },
    {
      "cell_type": "markdown",
      "source": [
        "Exercise 7: Assign a different name to function and call it through the new name\n",
        "\n",
        "|Below is the function display_student(name, age). Assign a new name show_tudent(name, age) to it and call it using the new name."
      ],
      "metadata": {
        "id": "OJUpNx4It7eq"
      }
    },
    {
      "cell_type": "code",
      "source": [
        "def display_student(name,age):\n",
        "    print(name , age)\n",
        "\n",
        "display_student(\"dk\",19)\n",
        "\n",
        "show_student = display_student\n",
        "show_student(\"dky\",19)\n",
        "\n",
        "\n",
        "\n"
      ],
      "metadata": {
        "id": "5Ao3freirmAk"
      },
      "execution_count": null,
      "outputs": []
    },
    {
      "cell_type": "markdown",
      "source": [
        "Exercise 8: Generate a Python list of all the even numbers between 4 to 30"
      ],
      "metadata": {
        "id": "UGF5cl7dwWh9"
      }
    },
    {
      "cell_type": "code",
      "source": [
        "print(list(range(4,30,2)))"
      ],
      "metadata": {
        "id": "TvY-kOd8vDo9"
      },
      "execution_count": null,
      "outputs": []
    },
    {
      "cell_type": "code",
      "source": [
        "print(list(range(3,50,5)))"
      ],
      "metadata": {
        "id": "ZDsSAU2WwcK0"
      },
      "execution_count": null,
      "outputs": []
    },
    {
      "cell_type": "markdown",
      "source": [
        "Exercise 9: Find the largest item from a given list\n",
        "\n",
        "x = [4, 6, 8, 24, 12, 2]"
      ],
      "metadata": {
        "id": "CbuQokXaxOJt"
      }
    },
    {
      "cell_type": "code",
      "source": [
        "x = [4,6,8,24,12,2]\n",
        "print(max(x))"
      ],
      "metadata": {
        "id": "oz0gj9bqw3dE"
      },
      "execution_count": null,
      "outputs": []
    },
    {
      "cell_type": "markdown",
      "source": [
        "Exercise 1: Calculate the multiplication and sum of two numbers\n",
        "Given two integer numbers, return their product only if the product is equal to or lower than 1000. Otherwise, return their sum."
      ],
      "metadata": {
        "id": "JhqlzG_PLs4w"
      }
    },
    {
      "cell_type": "code",
      "source": [
        " def multi_or_sum(num1,num2):\n",
        "     prod = num1 * num2\n",
        "     if prod >=1000:\n",
        "        return prod\n",
        "\n",
        "     else:\n",
        "      return num1 + num2\n",
        "\n",
        "result = multi_or_sum(20,30)\n",
        "print(result)\n",
        "\n",
        "result =multi_or_sum(40,50)\n",
        "print(result)\n",
        "\n",
        "\n"
      ],
      "metadata": {
        "id": "6ZVjLPPBxhaS"
      },
      "execution_count": null,
      "outputs": []
    },
    {
      "cell_type": "markdown",
      "source": [
        "Write a program to iterate the first 10 numbers, and in each iteration, print the sum of the current and previous number."
      ],
      "metadata": {
        "id": "vQvG2Hy2OCVT"
      }
    },
    {
      "cell_type": "code",
      "source": [
        "print(\"printing currunt  and prevarious number sum in range:10 \")\n",
        "previous_num = 0\n",
        "for i in range(1,11):\n",
        "    x_sum = previous_num + i\n",
        "    print(\"current_value\",i,\"prevarious_value\",previous_num,\"sum:\",x_sum)\n",
        "\n",
        "    previous_num = i\n",
        "\n"
      ],
      "metadata": {
        "id": "L6YWS8LWMxZ3"
      },
      "execution_count": null,
      "outputs": []
    },
    {
      "cell_type": "code",
      "source": [
        "word = input(\"Enter word\")\n",
        "print(\"origanal string\",word)\n",
        "\n",
        "size=len(word)\n",
        "print(\"printing only even index chart\")\n",
        "for i in range(0,size-1,2):\n",
        "  print(\"index[\",i,\"]\",word[i])\n",
        "\n",
        "\n"
      ],
      "metadata": {
        "id": "9jrQM8i3Ofp2"
      },
      "execution_count": null,
      "outputs": []
    },
    {
      "cell_type": "code",
      "source": [
        "#intro to numpy\n",
        "\n",
        "#Array\n",
        "import numpy as np\n",
        "np.array([1,2,3,4])"
      ],
      "metadata": {
        "id": "kq5-uJh6VXyV"
      },
      "execution_count": null,
      "outputs": []
    },
    {
      "cell_type": "code",
      "source": [
        "import pandas as pd\n",
        "sex =pd.Series(['male','female','male'])\n",
        "np.array(sex)\n"
      ],
      "metadata": {
        "id": "ApGYaXXr_bSQ"
      },
      "execution_count": null,
      "outputs": []
    },
    {
      "cell_type": "code",
      "source": [
        "#linspace\n",
        "np.linspace(10,100,10)"
      ],
      "metadata": {
        "id": "VVGcZzSDAHqn"
      },
      "execution_count": null,
      "outputs": []
    },
    {
      "cell_type": "code",
      "source": [
        "#arange\n",
        "np.arange(5,10,2)\n"
      ],
      "metadata": {
        "id": "xOx_oBqBAWW8"
      },
      "execution_count": null,
      "outputs": []
    },
    {
      "cell_type": "code",
      "source": [
        "#Uniform samples\n",
        "np.random.uniform(5,10,size=4)"
      ],
      "metadata": {
        "id": "zkM3qCKvAmpb"
      },
      "execution_count": null,
      "outputs": []
    },
    {
      "cell_type": "code",
      "source": [
        "np.random.uniform(size=5)"
      ],
      "metadata": {
        "id": "vp2YdmwcA1e3"
      },
      "execution_count": null,
      "outputs": []
    },
    {
      "cell_type": "code",
      "source": [
        "#random.randint\n",
        "np.random.randint(5,10,5)"
      ],
      "metadata": {
        "id": "raaBqlkEBR4j"
      },
      "execution_count": null,
      "outputs": []
    },
    {
      "cell_type": "code",
      "source": [
        "#Random.random\n",
        "np.random.random(3)"
      ],
      "metadata": {
        "id": "-Os-q7mBBg3H"
      },
      "execution_count": null,
      "outputs": []
    },
    {
      "cell_type": "code",
      "source": [
        "#Logspace\n",
        "np.logspace(0,10,5, base=3)"
      ],
      "metadata": {
        "id": "r_vb9Eg4Brbw"
      },
      "execution_count": null,
      "outputs": []
    },
    {
      "cell_type": "code",
      "source": [
        "#array of ones\n",
        "np.ones((3,4))\n",
        "\n"
      ],
      "metadata": {
        "id": "9Jm5aEStCGxr"
      },
      "execution_count": null,
      "outputs": []
    },
    {
      "cell_type": "code",
      "source": [
        "#array of k random values\n",
        "np.full((2,4),fill_value=2)"
      ],
      "metadata": {
        "id": "qsn4027MCttG"
      },
      "execution_count": null,
      "outputs": []
    },
    {
      "cell_type": "code",
      "source": [
        "#Identity\n",
        "np.identity(4)"
      ],
      "metadata": {
        "id": "wVzTcQBsDM5Q"
      },
      "execution_count": null,
      "outputs": []
    },
    {
      "cell_type": "code",
      "source": [
        "\n",
        "\n",
        "\n",
        "\n",
        "#array operation\n",
        "arr =np.array([1,2,3,4,5,5,6,7,6])\n",
        "\n",
        "#min\n",
        "print(\"\\nMin.\")\n",
        "np.min(arr)\n",
        "\n",
        "#max\n",
        "print('\\nmax')\n",
        "np.max(arr)\n",
        "\n",
        "#unique\n",
        "print(\"\\nunique\")\n",
        "np.unique(arr,return_counts=True)\n",
        "\n",
        "#mean\n",
        "print('\\nMean')\n",
        "np.mean(arr)\n",
        "\n",
        "#median\n",
        "print(\"Median\")\n",
        "np.median(arr)\n",
        "\n",
        "#Digitize\n",
        "a = np.array([-0.9,0.8,1,4.5,6.4,5.4])\n",
        "bins=np.array([0,1,2,3,4])\n",
        "np.digitize(a,bins)"
      ],
      "metadata": {
        "id": "mMO2qwASDU0z"
      },
      "execution_count": null,
      "outputs": []
    },
    {
      "cell_type": "code",
      "source": [
        "#reshap\n",
        "A  = np.random.randint(15,size=(4,3))\n",
        "A\n"
      ],
      "metadata": {
        "id": "lTd5_Xc9Dz2M"
      },
      "execution_count": null,
      "outputs": []
    },
    {
      "cell_type": "code",
      "source": [
        "A.reshape(3,4)"
      ],
      "metadata": {
        "id": "GAHJtIyApw_Q"
      },
      "execution_count": null,
      "outputs": []
    },
    {
      "cell_type": "code",
      "source": [
        "A.reshape(-1)"
      ],
      "metadata": {
        "id": "KAUZ8cq7rjwA"
      },
      "execution_count": null,
      "outputs": []
    },
    {
      "cell_type": "code",
      "source": [
        "#Expand demensions\n",
        "arr  = np.array([8 ,14, 1, 8, 11, 4, 9, 1, 13, 11, 1])\n",
        "np.expand_dims(arr, axis=0)"
      ],
      "metadata": {
        "id": "-lzKS1c8zhiP"
      },
      "execution_count": null,
      "outputs": []
    },
    {
      "cell_type": "code",
      "source": [
        "np.expand_dims(arr, axis=1)"
      ],
      "metadata": {
        "id": "RcMTehXf0ocz"
      },
      "execution_count": null,
      "outputs": []
    },
    {
      "cell_type": "code",
      "source": [
        "#Squeeze\n",
        "arr = np.array([[1], [3], [14],[11],[8],[11],[4],[9],[12],[13],[11]])\n",
        "np.squeeze(arr)"
      ],
      "metadata": {
        "id": "Vs8UPS_f08Qt"
      },
      "execution_count": null,
      "outputs": []
    },
    {
      "cell_type": "code",
      "source": [
        "#count non-zero\n",
        "a = np.array([0,2,0,7,8,5,0])\n",
        "np.count_nonzero(a)"
      ],
      "metadata": {
        "id": "rZlwohg71nix"
      },
      "execution_count": null,
      "outputs": []
    },
    {
      "cell_type": "code",
      "source": [
        "#sort\n",
        "arr = np.array([2,3,5,7,5,3,2])\n",
        "np.sort(arr)"
      ],
      "metadata": {
        "id": "z7IKfhSx2PRk"
      },
      "execution_count": null,
      "outputs": []
    },
    {
      "cell_type": "code",
      "source": [
        "#abs\n",
        "arr = np.array([[2,-5,4],[-6,-4,-8]])\n",
        "np.abs(arr)"
      ],
      "metadata": {
        "id": "eAw_D1Qq24HY"
      },
      "execution_count": null,
      "outputs": []
    },
    {
      "cell_type": "code",
      "source": [
        "#put\n",
        "arr = np.array([1,2,3,4,5,6])\n",
        "arr"
      ],
      "metadata": {
        "id": "nezosN1j3UnL"
      },
      "execution_count": null,
      "outputs": []
    },
    {
      "cell_type": "code",
      "source": [
        "np.put(arr,[1,4],[6,7])\n",
        "arr"
      ],
      "metadata": {
        "id": "CTGCG6e15UAR"
      },
      "execution_count": null,
      "outputs": []
    },
    {
      "cell_type": "code",
      "source": [
        "#repeat\n",
        "np.repeat('2017',3)\n"
      ],
      "metadata": {
        "id": "IM2qbYsQ5q6Q"
      },
      "execution_count": null,
      "outputs": []
    },
    {
      "cell_type": "code",
      "source": [
        "#tile\n",
        "np.tile('ram',4)"
      ],
      "metadata": {
        "id": "WQ3QXdj462X-"
      },
      "execution_count": null,
      "outputs": []
    },
    {
      "cell_type": "code",
      "source": [
        "import numpy as np\n",
        "full_array_2d = np.full((3,4),5)\n",
        "print(full_array_2d)"
      ],
      "metadata": {
        "id": "E9n4GYOR7Uls"
      },
      "execution_count": null,
      "outputs": []
    },
    {
      "cell_type": "code",
      "source": [
        "#create empty array\n",
        "emm=np.empty((3,4),dtype =int)\n",
        "print(\"Empty array\")\n",
        "print(emm)\n",
        "\n",
        "#create a full array\n",
        "filla = np.full([3,3],55,dtype=int)\n",
        "print(\"\\nfull array\")\n",
        "print(filla)"
      ],
      "metadata": {
        "id": "S7o0rwv47uGF"
      },
      "execution_count": null,
      "outputs": []
    },
    {
      "cell_type": "code",
      "source": [
        "#create empty array\n",
        "empa = np.empty([3,3])\n",
        "print(\"Empty array\")\n",
        "print(empa)\n",
        "\n",
        "#create full array\n",
        "fila=np.full([5,3],9.9)\n",
        "print(\"\\nFull array\")\n",
        "print(fila)"
      ],
      "metadata": {
        "id": "-n4mrjudnaAR"
      },
      "execution_count": null,
      "outputs": []
    },
    {
      "cell_type": "code",
      "source": [
        "#python program to create arrar with all zeros\n",
        "import numpy as geek\n",
        "a=geek.zeros(3,dtype=int)\n",
        "print(\"matrix a:\\n\",a)\n",
        "\n",
        "b=geek.zeros([3,3],dtype=int)\n",
        "print(\"\\nMatrix b: \\n\",b)\n"
      ],
      "metadata": {
        "id": "k7ppIwcvrp6p"
      },
      "execution_count": null,
      "outputs": []
    },
    {
      "cell_type": "code",
      "source": [
        "# Python Program to create array with all ones\n",
        "import numpy as geek\n",
        "\n",
        "a = geek.ones(4, dtype = int)\n",
        "print(\"Matrix a : \\n\", a)\n",
        "\n",
        "b = geek.ones([4, 4], dtype = int)\n",
        "print(\"\\nMatrix b : \\n\", b)\n"
      ],
      "metadata": {
        "id": "5ynaC98NvMx1"
      },
      "execution_count": null,
      "outputs": []
    },
    {
      "cell_type": "code",
      "source": [
        "c = geek.ones([3,4])\n",
        "print(\"\\nMatrix  c: \\n \",c)\n",
        "\n",
        "d =geek.ones([5,2],dtype=float)\n",
        "print(\"\\nMatrix d: \\n\",d)"
      ],
      "metadata": {
        "id": "WVPBMB_q0SfY"
      },
      "execution_count": null,
      "outputs": []
    },
    {
      "cell_type": "code",
      "source": [
        "# importing package\n",
        "import numpy\n",
        "\n",
        "# create numpy array\n",
        "array = numpy.array([[1, 2, 3, 4, 5],\n",
        "\t\t\t\t[6, 7, 8, 9, 10],\n",
        "\t\t\t\t[11, 12, 13, 14, 15],\n",
        "\t\t\t\t[16, 17, 18, 19, 20]\n",
        "\t\t\t\t])\n",
        "\n",
        "# view array\n",
        "print(array)\n",
        "\n",
        "# check for some lists\n",
        "print([1, -2, 3, 4, 5] in array.tolist())\n",
        "print([16, 17, 20, 19, 18] in array.tolist())\n",
        "print([6, 7, 8, 9, 10] in array.tolist())\n",
        "print([11, 12, 13, 14, 15] in array.tolist())\n"
      ],
      "metadata": {
        "id": "nDVUW9Un0uKU"
      },
      "execution_count": null,
      "outputs": []
    },
    {
      "cell_type": "code",
      "source": [
        "#importing numpy as library\n",
        "import numpy as np\n",
        "\n",
        "#create 1d array with even no of\n",
        "#elements\n",
        "\n",
        "x_even = np.array([1,2,3,4,5,6,7])\n",
        "print(\"\\nPrinting the Orignal array\")\n",
        "print(x_even)\n",
        "\n",
        "#calcultion the median\n",
        "med_even = np.median(x_even)\n",
        "print(\"\\nMedian of the array that contain\\ even no of elements:\")\n",
        "print(med_even)"
      ],
      "metadata": {
        "id": "7K2-7Wiw2Z6z"
      },
      "execution_count": null,
      "outputs": []
    },
    {
      "cell_type": "code",
      "source": [
        "import numpy as np\n",
        "import pandas as pd"
      ],
      "metadata": {
        "id": "wHRz4eBD7UxG"
      },
      "execution_count": null,
      "outputs": []
    },
    {
      "cell_type": "code",
      "source": [
        "#create another sales dataframe\n",
        "dicts ={'Home':['badroom','bathroom','kitchen','Holl'],\n",
        "        'Badroom':['fan','bad','door','ac'],\n",
        "       'kitchan':[1,2,3,4],\n",
        "       'Holl':[11,22,54,66]}\n",
        "\n",
        "dicts"
      ],
      "metadata": {
        "id": "E_4MUUUU0icP"
      },
      "execution_count": null,
      "outputs": []
    },
    {
      "cell_type": "code",
      "source": [
        "df=pd.DataFrame(dicts)\n",
        "print(df)"
      ],
      "metadata": {
        "id": "RHNr8Eaz0n7f"
      },
      "execution_count": null,
      "outputs": []
    },
    {
      "cell_type": "code",
      "source": [
        "# Create a dictionary to store account information (replace with a database in a real application)\n",
        "accounts = {\n",
        "    '1234': {\n",
        "        'pin': '1234',\n",
        "        'balance': 1000.0,\n",
        "    },\n",
        "    # Add more accounts as needed\n",
        "}\n",
        "\n",
        "# Function to check balance\n",
        "def check_balance(account):\n",
        "    return account['balance']\n",
        "\n",
        "# Function to withdraw money\n",
        "def withdraw(account, amount):\n",
        "    if amount > 0 and account['balance'] >= amount:\n",
        "        account['balance'] -= amount\n",
        "        return True\n",
        "    else:\n",
        "        return False\n",
        "\n",
        "# Function to deposit money\n",
        "def deposit(account, amount):\n",
        "    if amount > 0:\n",
        "        account['balance'] += amount\n",
        "        return True\n",
        "    else:\n",
        "        return False\n",
        "\n",
        "# Function to display menu and get user input\n",
        "def main():\n",
        "    while True:\n",
        "        pin = input(\"Enter your PIN: \")\n",
        "        if pin in accounts:\n",
        "            account = accounts[pin]\n",
        "            while True:\n",
        "                print(\"\\n1. Check Balance\")\n",
        "                print(\"2. Withdraw\")\n",
        "                print(\"3. Deposit\")\n",
        "                print(\"4. Exit\")\n",
        "                choice = input(\"Select an option (1/2/3/4): \")\n",
        "\n",
        "                if choice == '1':\n",
        "                    print(f\"Your balance is: ${check_balance(account):.2f}\")\n",
        "                elif choice == '2':\n",
        "                    amount = float(input(\"Enter the amount to withdraw: $\"))\n",
        "                    if withdraw(account, amount):\n",
        "                        print(f\"Withdrew ${amount:.2f}\")\n",
        "                    else:\n",
        "                        print(\"Insufficient funds or invalid amount.\")\n",
        "                elif choice == '3':\n",
        "                    amount = float(input(\"Enter the amount to deposit: $\"))\n",
        "                    if deposit(account, amount):\n",
        "                        print(f\"Deposited ${amount:.2f}\")\n",
        "                    else:\n",
        "                        print(\"Invalid amount.\")\n",
        "                elif choice == '4':\n",
        "                    print(\"Exiting...\")\n",
        "                    break\n",
        "                else:\n",
        "                    print(\"Invalid choice. Please select a valid option.\")\n",
        "        else:\n",
        "            print(\"Invalid PIN. Please try again.\")\n",
        "\n",
        "if __name__ == \"__main__\":\n",
        "    main()\n"
      ],
      "metadata": {
        "id": "8FnJer7X0wwf"
      },
      "execution_count": null,
      "outputs": []
    },
    {
      "cell_type": "code",
      "source": [],
      "metadata": {
        "id": "cZcpEXy9zbB4"
      },
      "execution_count": null,
      "outputs": []
    }
  ]
}